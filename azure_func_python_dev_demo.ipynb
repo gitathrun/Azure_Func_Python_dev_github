{
 "cells": [
  {
   "cell_type": "markdown",
   "metadata": {},
   "source": [
    "# Notebook Demo for Azure Function development in Docker #"
   ]
  },
  {
   "cell_type": "markdown",
   "metadata": {},
   "source": [
    "This notebook demo provide a workflow of Azure Function development in Python, the development environement is within a JupyterLab in a docker container.\n",
    "\n",
    "Demo code is based on Azure Function's Tutorial provided by Microsoft:\n",
    "\n",
    "- [Create Azure Function](https://docs.microsoft.com/en-us/azure/azure-functions/functions-create-first-function-python)\n",
    "- [Program Azure Function in Python](https://docs.microsoft.com/en-us/azure/azure-functions/functions-reference-python)\n",
    "\n",
    "The development code sites:\n",
    "\n",
    "- In docker container, it is under directory \"/app\"\n",
    "- On docker host machine, it is the shared-volume directory.\n",
    "\n",
    "The process includes:\n",
    "\n",
    "- Create a new python virtual env.\n",
    "\n",
    "```\n",
    "# In Bash \n",
    "python -m venv .env \n",
    ". .env/bin/activate\n",
    "```\n",
    "\n",
    "- Create a container-local function project. Please open a __Terminal__ at the JupyterLab start page. \n",
    "\n",
    "```\n",
    "func init MyFunctionProj\n",
    "```\n",
    "\n",
    "- Pick __python__ as the desired runtime.\n",
    "\n",
    "- Into the project directory\n",
    "\n",
    "```\n",
    "cd MyAzFuncPythonTest\n",
    "```\n",
    "\n",
    "- Create a function\n",
    "\n",
    "```\n",
    "func new\n",
    "```\n",
    "\n",
    "We name this new function as __textdisplay__\n",
    "\n",
    "-  Run the Azure function locally (within docker container)\n",
    "\n",
    "```\n",
    "func host start\n",
    "```\n",
    "\n",
    "-  Get the http link information:\n",
    "\n",
    "```\n",
    "textdisplay: [GET, POST] http://localhost:7071/api/textdisplay\n",
    "```\n",
    "\n",
    "- Text this link in the notebook demo"
   ]
  },
  {
   "cell_type": "code",
   "execution_count": 1,
   "metadata": {},
   "outputs": [],
   "source": [
    "import requests"
   ]
  },
  {
   "cell_type": "code",
   "execution_count": 3,
   "metadata": {},
   "outputs": [],
   "source": [
    "# method and URL\n",
    "METHOD = 'GET'\n",
    "AZ_FUNC_LINK = \"http://localhost:7071/api/textdisplay\"\n",
    "\n",
    "# parameter name defined\n",
    "text = \"Hello, Az func in docker!\"\n",
    "param_dict = {'name': text}\n"
   ]
  },
  {
   "cell_type": "code",
   "execution_count": 5,
   "metadata": {},
   "outputs": [],
   "source": [
    "# access the \"local\" Azure function\n",
    "req = requests.request(METHOD, AZ_FUNC_LINK, params=param_dict)"
   ]
  },
  {
   "cell_type": "code",
   "execution_count": 6,
   "metadata": {},
   "outputs": [
    {
     "data": {
      "text/plain": [
       "<Response [200]>"
      ]
     },
     "execution_count": 6,
     "metadata": {},
     "output_type": "execute_result"
    }
   ],
   "source": [
    "req"
   ]
  },
  {
   "cell_type": "code",
   "execution_count": 7,
   "metadata": {},
   "outputs": [
    {
     "name": "stdout",
     "output_type": "stream",
     "text": [
      "http://localhost:7071/api/textdisplay?name=Hello%2C+Az+func+in+docker%21\n"
     ]
    }
   ],
   "source": [
    "# check URL\n",
    "print(req.url)"
   ]
  },
  {
   "cell_type": "code",
   "execution_count": 8,
   "metadata": {},
   "outputs": [
    {
     "name": "stdout",
     "output_type": "stream",
     "text": [
      "Hello Hello, Az func in docker!!\n"
     ]
    }
   ],
   "source": [
    "# check response body\n",
    "print(req.text)"
   ]
  },
  {
   "cell_type": "markdown",
   "metadata": {},
   "source": [
    "The local server reponse with [200], and the server side console shows information is correctly received. Test successed. "
   ]
  }
 ],
 "metadata": {
  "kernelspec": {
   "display_name": "Python 3",
   "language": "python",
   "name": "python3"
  },
  "language_info": {
   "codemirror_mode": {
    "name": "ipython",
    "version": 3
   },
   "file_extension": ".py",
   "mimetype": "text/x-python",
   "name": "python",
   "nbconvert_exporter": "python",
   "pygments_lexer": "ipython3",
   "version": "3.6.5"
  }
 },
 "nbformat": 4,
 "nbformat_minor": 2
}
